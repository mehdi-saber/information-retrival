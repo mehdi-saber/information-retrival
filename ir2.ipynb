{
 "cells": [
  {
   "cell_type": "code",
   "execution_count": null,
   "metadata": {
    "scrolled": true
   },
   "outputs": [],
   "source": [
    "import pandas as pd\n",
    "import numpy as np\n",
    "from html2text import html2text\n",
    "from tqdm import tqdm, tqdm_pandas\n",
    "from hazm import word_tokenize\n",
    "from sqlalchemy import create_engine\n",
    "import sqlite3 as db\n",
    "tqdm.pandas()"
   ]
  },
  {
   "cell_type": "markdown",
   "metadata": {},
   "source": [
    "### load data files"
   ]
  },
  {
   "cell_type": "code",
   "execution_count": null,
   "metadata": {},
   "outputs": [],
   "source": [
    "%cd data\n",
    "files=[\"ir-news-0-2.csv\",\"ir-news-2-4.csv\",\"ir-news-10-12.csv\",\"ir-news-4-6.csv\",\"ir-news-6-8.csv\",\"ir-news-8-10.csv\"]\n",
    "df=pd.concat([pd.read_csv(file)for file in files[:]],ignore_index=True)"
   ]
  },
  {
   "cell_type": "code",
   "execution_count": null,
   "metadata": {},
   "outputs": [],
   "source": [
    "cnx = create_engine('sqlite:///my.db', echo=False)"
   ]
  },
  {
   "cell_type": "code",
   "execution_count": null,
   "metadata": {
    "scrolled": true
   },
   "outputs": [],
   "source": [
    "cnx.execute('SELECT name FROM sqlite_master WHERE type=\"table\";').fetchall()"
   ]
  },
  {
   "cell_type": "markdown",
   "metadata": {},
   "source": [
    "### html to text context"
   ]
  },
  {
   "cell_type": "code",
   "execution_count": null,
   "metadata": {
    "scrolled": true
   },
   "outputs": [],
   "source": [
    "df[\"content_plain\"]=df[\"content\"].progress_apply(html2text)"
   ]
  },
  {
   "cell_type": "markdown",
   "metadata": {},
   "source": [
    "### import words to sql DB"
   ]
  },
  {
   "cell_type": "code",
   "execution_count": null,
   "metadata": {
    "scrolled": true
   },
   "outputs": [],
   "source": [
    "# drop words\n",
    "# words_drop_sql = 'drop table words'\n",
    "# cnx.execute(words_drop_sql,cnx)"
   ]
  },
  {
   "cell_type": "code",
   "execution_count": null,
   "metadata": {
    "scrolled": true
   },
   "outputs": [],
   "source": [
    "buffer=[]\n",
    "def buffer2sql():\n",
    "    global buffer\n",
    "    with cnx.connect() as con:\n",
    "        buffer_df=pd.concat(buffer,ignore_index=True)\n",
    "        buffer_df.to_sql('words', con, if_exists='append',index=False)\n",
    "        buffer=[]\n",
    "    \n",
    "for doc_i,doc in tqdm(df.iterrows(),total=df.shape[0]):\n",
    "    \n",
    "    words=pd.DataFrame(word_tokenize(doc[\"content_plain\"]),columns=['word'])\n",
    "    words['doc_id']=doc_i\n",
    "    \n",
    "    buffer.append(words)\n",
    "    if len(buffer)>20 :\n",
    "        buffer2sql()\n",
    "if len(buffer)>0:\n",
    "     buffer2sql()"
   ]
  },
  {
   "cell_type": "markdown",
   "metadata": {},
   "source": [
    "### Remove stop words"
   ]
  },
  {
   "cell_type": "code",
   "execution_count": null,
   "metadata": {
    "scrolled": true
   },
   "outputs": [],
   "source": [
    "# drop stop words\n",
    "# sw_drop_sql = 'drop table stop_words'\n",
    "# cnx.execute(sw_drop_sql,cnx)"
   ]
  },
  {
   "cell_type": "code",
   "execution_count": null,
   "metadata": {
    "scrolled": true
   },
   "outputs": [],
   "source": [
    "stop_words_sql = \"\"\"\n",
    "select word as sw,c0 ,(c0/c1) as c \n",
    "from(\n",
    "    SELECT *,COUNT(*) as c0,COUNT(DISTINCT doc_id) as c1\n",
    "    FROM words\n",
    "    GROUP BY word\n",
    "    having COUNT(DISTINCT doc_id)>100\n",
    "    ORDER BY COUNT(*) desc\n",
    ")\n",
    "where c>4\n",
    "order by c desc; \n",
    "\"\"\"\n",
    "sw=pd.read_sql(stop_words_sql, cnx).loc[:,'sw']\n",
    "sw.to_csv('stop_word.txt',index=False)"
   ]
  },
  {
   "cell_type": "code",
   "execution_count": null,
   "metadata": {
    "scrolled": true
   },
   "outputs": [],
   "source": [
    "# unique_words_sql = \"\"\"\n",
    "# select count(*)\n",
    "# from\n",
    "# (\n",
    "#     SELECT *\n",
    "#     FROM words\n",
    "#     GROUP BY word\n",
    "#     ORDER BY COUNT(*)\n",
    "# );\n",
    "# \"\"\"\n",
    "# pd.read_sql(unique_words_sql, cnx)"
   ]
  },
  {
   "cell_type": "markdown",
   "metadata": {},
   "source": [
    "#### all words before removing"
   ]
  },
  {
   "cell_type": "code",
   "execution_count": null,
   "metadata": {},
   "outputs": [],
   "source": [
    "pd.read_sql('select count(*) from words', cnx)"
   ]
  },
  {
   "cell_type": "markdown",
   "metadata": {},
   "source": [
    "### stop words to DB"
   ]
  },
  {
   "cell_type": "code",
   "execution_count": null,
   "metadata": {
    "scrolled": true
   },
   "outputs": [],
   "source": [
    "sw=pd.read_csv('stop_words.txt')\n",
    "sw.to_sql('stop_words', cnx,index=False)\n",
    "pd.read_sql_table('stop_words', cnx)"
   ]
  },
  {
   "cell_type": "markdown",
   "metadata": {},
   "source": [
    "### delete stop words"
   ]
  },
  {
   "cell_type": "code",
   "execution_count": null,
   "metadata": {
    "scrolled": true
   },
   "outputs": [],
   "source": [
    "group_sql = \"\"\"\n",
    "DELETE FROM words\n",
    "WHERE word in (\n",
    "    SELECT sw FROM stop_words\n",
    ")\n",
    "; \n",
    "\"\"\"\n",
    "cnx.execute(group_sql).fetchall()"
   ]
  },
  {
   "cell_type": "markdown",
   "metadata": {},
   "source": [
    "### all words after removing stop words"
   ]
  },
  {
   "cell_type": "code",
   "execution_count": null,
   "metadata": {},
   "outputs": [],
   "source": [
    "pd.read_sql('select count(*) from words', cnx)"
   ]
  },
  {
   "cell_type": "markdown",
   "metadata": {},
   "source": [
    "# tf - idf\n",
    "## tf"
   ]
  },
  {
   "cell_type": "markdown",
   "metadata": {},
   "source": [
    "## term freq per doc"
   ]
  },
  {
   "cell_type": "code",
   "execution_count": null,
   "metadata": {
    "scrolled": true
   },
   "outputs": [],
   "source": [
    "term_freq_sql = \"\"\"\n",
    "CREATE TABLE term_freq_per_doc AS\n",
    "SELECT word,doc_id,COUNT(*) as repeat \n",
    "FROM words\n",
    "GROUP BY word,doc_id\n",
    "ORDER BY COUNT(*) desc; \n",
    "\"\"\"\n",
    "cnx.execute(term_freq_sql).fetchall()\n",
    "# pd.read_sql(term_freq_sql, cnx).to_sql('term_freq_per_doc', cnx, index=False)"
   ]
  },
  {
   "cell_type": "code",
   "execution_count": null,
   "metadata": {
    "scrolled": true
   },
   "outputs": [],
   "source": [
    "ftd_c=pd.read_sql('select count(*) from term_freq_per_doc',cnx).iloc[0]['count(*)']\n",
    "ftd_df=pd.read_sql_table('term_freq_per_doc', cnx)    "
   ]
  },
  {
   "cell_type": "code",
   "execution_count": null,
   "metadata": {
    "scrolled": true
   },
   "outputs": [],
   "source": [
    "c_size=10_000\n",
    "ftd_gen = range(0,ftd_c,c_size)\n",
    "for offset in tqdm(ftd_gen,total=ftd_c//c_size):\n",
    "    ftd_sql=f\"\"\"\n",
    "    select * \n",
    "    from term_freq_per_doc\n",
    "    limit {c_size}\n",
    "    offset {offset}\n",
    "    \"\"\"\n",
    "    ftd=pd.read_sql(ftd_sql,cnx)\n",
    "    ftd['tf']=1+np.log(ftd['repeat'])\n",
    "    ftd.to_sql('ftd', cnx,if_exists='append', index=False)\n",
    "del ftd_df"
   ]
  },
  {
   "cell_type": "markdown",
   "metadata": {},
   "source": [
    "# idf\n",
    "## term freq in all"
   ]
  },
  {
   "cell_type": "code",
   "execution_count": null,
   "metadata": {
    "scrolled": true
   },
   "outputs": [],
   "source": [
    "term_freq_all_sql = \"\"\"\n",
    "CREATE TABLE term_freq_all AS\n",
    "SELECT word,COUNT(*) as repeat\n",
    "FROM words\n",
    "GROUP BY word\n",
    "ORDER BY COUNT(*) desc; \n",
    "\"\"\"\n",
    "cnx.execute(term_freq_all_sql)\n",
    "# pd.read_sql(term_freq_all_sql, ).to_sql('term_freq_all', cnx, index=False)"
   ]
  },
  {
   "cell_type": "code",
   "execution_count": null,
   "metadata": {
    "scrolled": true
   },
   "outputs": [],
   "source": [
    "nt=pd.read_sql_table('term_freq_all', cnx)\n",
    "N=nt['repeat'].sum()\n",
    "nt['idf']=np.log(N/nt['repeat'])\n",
    "# nt\n",
    "nt.to_sql('idf', cnx, index=False)\n",
    "del nt"
   ]
  },
  {
   "cell_type": "markdown",
   "metadata": {},
   "source": [
    "### aggregate for tf - idfs"
   ]
  },
  {
   "cell_type": "code",
   "execution_count": null,
   "metadata": {
    "scrolled": true
   },
   "outputs": [],
   "source": [
    "tf_idf_sql = \"\"\"\n",
    "CREATE TABLE tf_idf AS\n",
    "SELECT t.word,doc_id,tf,idf,tf*idf as \"tf-idf\"\n",
    "FROM ftd t\n",
    "LEFT JOIN idf d\n",
    "ON t.word = d.word;\n",
    "\"\"\"\n",
    "cnx.execute(tf_idf_sql)"
   ]
  },
  {
   "cell_type": "code",
   "execution_count": null,
   "metadata": {},
   "outputs": [],
   "source": [
    "rnd_doc_sql = f\"\"\"\n",
    "SELECT *\n",
    "FROM tf_idf \n",
    "WHERE doc_id=(SELECT doc_id FROM tf_idf ORDER BY RANDOM() LIMIT 1)\n",
    "ORDER BY \"tf-idf\" desc;\n",
    "\"\"\"\n",
    "rnd_doc_df=pd.read_sql(rnd_doc_sql, cnx)"
   ]
  },
  {
   "cell_type": "code",
   "execution_count": null,
   "metadata": {
    "scrolled": true
   },
   "outputs": [],
   "source": [
    "rnd_doc_df"
   ]
  },
  {
   "cell_type": "markdown",
   "metadata": {},
   "source": [
    "<p style='color:red'>shows that tf-idf increase by importance</p>"
   ]
  },
  {
   "cell_type": "code",
   "execution_count": null,
   "metadata": {},
   "outputs": [],
   "source": [
    "cnx.execute('CREATE INDEX word_i ON tf_idf(word);')\n",
    "cnx.execute('CREATE INDEX doc_id_i ON tf_idf(doc_id);')\n",
    "cnx.execute('CREATE INDEX word_doc_id_i ON tf_idf(word,doc_id);')"
   ]
  },
  {
   "cell_type": "markdown",
   "metadata": {},
   "source": [
    "# vec similarity"
   ]
  },
  {
   "cell_type": "code",
   "execution_count": null,
   "metadata": {},
   "outputs": [],
   "source": [
    "tf_cham_sql = \"\"\"\n",
    "CREATE TABLE champion AS\n",
    "select * from\n",
    "  (SELECT\n",
    "        RANK () OVER (\n",
    "            PARTITION BY word\n",
    "            ORDER BY \"tf-idf\" desc\n",
    "        ) as rank_tfid,\n",
    "           word,doc_id,\"tf-idf\"\n",
    "        FROM tf_idf\n",
    "    )\n",
    "where rank_tfid<20;\n",
    "\"\"\"\n",
    "cnx.execute(tf_cham_sql)"
   ]
  },
  {
   "cell_type": "code",
   "execution_count": null,
   "metadata": {
    "scrolled": true
   },
   "outputs": [],
   "source": [
    "def df2vec(doc):\n",
    "    vec=doc['tf-idf'].copy()\n",
    "    vec.index=doc['word']\n",
    "    return vec\n",
    "\n",
    "def vec_sim(doc_a,doc_b):\n",
    "    vec_a=df2vec(doc_a)\n",
    "    vec_b=df2vec(doc_b)\n",
    "    subs_words={*vec_b.index}.intersection({*vec_a.index})\n",
    "    sim=(vec_a[subs_words]*vec_b[subs_words]).sum()/(vec_a.sum()*vec_b.sum())\n",
    "    return sim\n",
    "def get_query_str():\n",
    "    print('\\t\\tGOOGLE.COM')\n",
    "    print('\\t\\tPress Enter')\n",
    "    query=input()\n",
    "    q_words=word_tokenize(query)\n",
    "    return q_words\n",
    "def get_query_vec(q_words):\n",
    "    q_repeat={}\n",
    "    for q_word in q_words:\n",
    "        if q_word not in q_repeat:\n",
    "            q_repeat[q_word]=0\n",
    "        q_repeat[q_word]+=1\n",
    "    words=[]\n",
    "    repeats=[]\n",
    "    for word,repeat in q_repeat.items():\n",
    "        words.append(word)\n",
    "        repeats.append(repeat)\n",
    "    q_df=pd.DataFrame({'word':words,'repeat':repeat})\n",
    "    q_df['tf']=1+np.log(q_df['repeat'])\n",
    "    N=pd.read_sql( f\"\"\"\n",
    "         SELECT sum(repeat) \n",
    "         FROM term_freq_all;\n",
    "         \"\"\", cnx).iloc[0].iloc[0]\n",
    "    for row_i,row in q_df.iterrows():\n",
    "        idf_res=pd.read_sql( f\"\"\"\n",
    "        SELECT idf\n",
    "        FROM idf \n",
    "        WHERE word='{row['word']}';\n",
    "        \"\"\", cnx)\n",
    "        q_df.loc[row_i,'idf']=idf_res.loc[0,'idf'] if idf_res.size>0 else np.log(N)\n",
    "    q_df[\"tf-idf\"]=q_df[\"tf\"]*q_df[\"idf\"]\n",
    "    return q_df\n",
    "def apply_query(ref_docs,q_words):\n",
    "    q_df=get_query_vec(query)\n",
    "    sims={}\n",
    "    for doc_i in tqdm([*ref_docs.index][:100]):\n",
    "        doc_vec=pd.read_sql( f\"\"\"\n",
    "        SELECT *\n",
    "        FROM tf_idf \n",
    "        WHERE doc_id='{doc_i}';\n",
    "        \"\"\", cnx)\n",
    "        sims[doc_i]=vec_sim(q_df,doc_vec)\n",
    "    res_id=pd.Series(sims).nlargest(10)\n",
    "    return df.loc[res_id.index,:]"
   ]
  },
  {
   "cell_type": "markdown",
   "metadata": {},
   "source": [
    "# slow search"
   ]
  },
  {
   "cell_type": "code",
   "execution_count": null,
   "metadata": {
    "scrolled": true
   },
   "outputs": [],
   "source": [
    "query=get_query_str()\n",
    "search_res=apply_query(df,query)\n",
    "search_res"
   ]
  },
  {
   "cell_type": "markdown",
   "metadata": {},
   "source": [
    "# with champion list"
   ]
  },
  {
   "cell_type": "code",
   "execution_count": 49,
   "metadata": {
    "scrolled": true
   },
   "outputs": [
    {
     "name": "stdout",
     "output_type": "stream",
     "text": [
      "\t\tGOOGLE.COM\n",
      "\t\tPress Enter\n",
      "مذاکرات کره شمالی\n"
     ]
    },
    {
     "name": "stderr",
     "output_type": "stream",
     "text": [
      "100%|██████████| 64/64 [00:00<00:00, 100.57it/s]\n"
     ]
    },
    {
     "data": {
      "text/html": [
       "<div>\n",
       "<style scoped>\n",
       "    .dataframe tbody tr th:only-of-type {\n",
       "        vertical-align: middle;\n",
       "    }\n",
       "\n",
       "    .dataframe tbody tr th {\n",
       "        vertical-align: top;\n",
       "    }\n",
       "\n",
       "    .dataframe thead th {\n",
       "        text-align: right;\n",
       "    }\n",
       "</style>\n",
       "<table border=\"1\" class=\"dataframe\">\n",
       "  <thead>\n",
       "    <tr style=\"text-align: right;\">\n",
       "      <th></th>\n",
       "      <th>publish_date</th>\n",
       "      <th>title</th>\n",
       "      <th>url</th>\n",
       "      <th>summary</th>\n",
       "      <th>source_url</th>\n",
       "      <th>meta_tags</th>\n",
       "      <th>content</th>\n",
       "      <th>category</th>\n",
       "      <th>subcategory</th>\n",
       "      <th>thumbnail</th>\n",
       "    </tr>\n",
       "  </thead>\n",
       "  <tbody>\n",
       "    <tr>\n",
       "      <th>24362</th>\n",
       "      <td>October 29th 2019, 11:12:00.000</td>\n",
       "      <td>هشدار مرد شماره ۲ کره شمالی به آمریکا</td>\n",
       "      <td>irna.ir</td>\n",
       "      <td>پکن- ایرنا- مرد شماره ۲ کره شمالی ضمن هشدار به...</td>\n",
       "      <td>irna.ir</td>\n",
       "      <td>[\"کره ‌شمالی\",\"امريكا\",\"کره جنوبی\"]</td>\n",
       "      <td>&lt;div class=\"item-text\" itemprop=\"articleBody\"&gt;...</td>\n",
       "      <td>NaN</td>\n",
       "      <td>NaN</td>\n",
       "      <td>NaN</td>\n",
       "    </tr>\n",
       "    <tr>\n",
       "      <th>18779</th>\n",
       "      <td>October 29th 2019, 13:24:00.000</td>\n",
       "      <td>هشدار مرد شماره ۲ کره شمالی به آمریکا</td>\n",
       "      <td>khabaronline.ir</td>\n",
       "      <td>ایرنا نوشت: مرد شماره ۲ کره شمالی ضمن هشدار به...</td>\n",
       "      <td>khabaronline.ir</td>\n",
       "      <td>[\"کره شمالی\",\"کره جنوبی\",\"ایالات متحده آمریکا\"]</td>\n",
       "      <td>&lt;div&gt; \\n &lt;p&gt;خبرگزاری یونهاپ روز سه شنبه گزارش ...</td>\n",
       "      <td>NaN</td>\n",
       "      <td>NaN</td>\n",
       "      <td>https://media.khabaronline.ir/d/2019/10/29/3/5...</td>\n",
       "    </tr>\n",
       "    <tr>\n",
       "      <th>26067</th>\n",
       "      <td>October 29th 2019, 22:16:00.000</td>\n",
       "      <td>پیونگ یانگ درخواست کره جنوبی برای مذاکره را رد...</td>\n",
       "      <td>irna.ir</td>\n",
       "      <td>پکن- ایرنا- کره شمالی درخواست رسمی کره جنوبی ب...</td>\n",
       "      <td>irna.ir</td>\n",
       "      <td>[]</td>\n",
       "      <td>&lt;div class=\"item-text\" itemprop=\"articleBody\"&gt;...</td>\n",
       "      <td>NaN</td>\n",
       "      <td>NaN</td>\n",
       "      <td>NaN</td>\n",
       "    </tr>\n",
       "    <tr>\n",
       "      <th>51409</th>\n",
       "      <td>October 27th 2019, 12:00:00.000</td>\n",
       "      <td>کره‌شمالی: ممکن است دوستی کیم جونگ اون با ترام...</td>\n",
       "      <td>entekhab.ir</td>\n",
       "      <td>پیونگ یانگ بامداد یکشنبه در مورد اتمام دوستی م...</td>\n",
       "      <td>entekhab.ir</td>\n",
       "      <td>[\"ایرنا\",\"ایرنا\"]</td>\n",
       "      <td>&lt;div class=\"body col-xs-36\"&gt; \\n &lt;a class=\"ente...</td>\n",
       "      <td>NaN</td>\n",
       "      <td>NaN</td>\n",
       "      <td>https://www.entekhab.ir/files/fa/news/1398/8/5...</td>\n",
       "    </tr>\n",
       "    <tr>\n",
       "      <th>36888</th>\n",
       "      <td>October 24th 2019, 13:14:00.000</td>\n",
       "      <td>پیونگ یانگ نسبت به حل اختلافات با واشنگتن ابرا...</td>\n",
       "      <td>irna.ir</td>\n",
       "      <td>تهران - ایرنا - مشاور وزیر خارجه کره شمالی در ...</td>\n",
       "      <td>irna.ir</td>\n",
       "      <td>[\"کیم جونگ اون\",\"دونالد ترامپ\",\"ایالات متحده آ...</td>\n",
       "      <td>&lt;div class=\"item-text\" itemprop=\"articleBody\"&gt;...</td>\n",
       "      <td>NaN</td>\n",
       "      <td>NaN</td>\n",
       "      <td>NaN</td>\n",
       "    </tr>\n",
       "    <tr>\n",
       "      <th>22190</th>\n",
       "      <td>October 29th 2019, 11:50:00.000</td>\n",
       "      <td>هشدار مرد شماره ۲ کره شمالی به آمریکا</td>\n",
       "      <td>tabnak.ir</td>\n",
       "      <td>NaN</td>\n",
       "      <td>tabnak.ir</td>\n",
       "      <td>[\"کره شمالی\",\"مرد شماره دو\",\"هشدار\",\"آمریکا\"]</td>\n",
       "      <td>&lt;p&gt;مرد شماره ۲ کره شمالی ضمن هشدار به واشنگتن ...</td>\n",
       "      <td>NaN</td>\n",
       "      <td>NaN</td>\n",
       "      <td>https://cdn.tabnak.ir/files/fa/news/1398/8/7/1...</td>\n",
       "    </tr>\n",
       "    <tr>\n",
       "      <th>54478</th>\n",
       "      <td>October 27th 2019, 17:30:00.000</td>\n",
       "      <td>هشدار کره شمالی به آمریکا: روی اعصاب ما راه نروید</td>\n",
       "      <td>mashreghnews.ir</td>\n",
       "      <td>یک مقام ارشد کره شمالی در بیانیه‌ای تاکید کرده...</td>\n",
       "      <td>mashreghnews.ir</td>\n",
       "      <td>[\"کره شمالی\",\"آمریکا\",\"هشدار\"]</td>\n",
       "      <td>&lt;p&gt;&lt;span style=\"color:#ff0000\"&gt;به گزارش مشرق&lt;/...</td>\n",
       "      <td>NaN</td>\n",
       "      <td>NaN</td>\n",
       "      <td>https://cdn.mashreghnews.ir/d/2019/10/27/2/263...</td>\n",
       "    </tr>\n",
       "    <tr>\n",
       "      <th>25415</th>\n",
       "      <td>October 29th 2019, 12:16:04.000</td>\n",
       "      <td>هشدار مرد شماره دو کره شمالی به آمریکا</td>\n",
       "      <td>borna.news</td>\n",
       "      <td>مرد شماره ۲ کره شمالی ضمن هشدار به واشنگتن از ...</td>\n",
       "      <td>borna.news</td>\n",
       "      <td>[\"خلع سلاح هسته ای\",\"سوئد\",\"شبه جزیره کره\",\"کر...</td>\n",
       "      <td>&lt;p style=\"text-align:justify\"&gt;به گزارش گروه سی...</td>\n",
       "      <td>NaN</td>\n",
       "      <td>NaN</td>\n",
       "      <td>https://static1.borna.news/thumbnail/bs2rcINj9...</td>\n",
       "    </tr>\n",
       "    <tr>\n",
       "      <th>52714</th>\n",
       "      <td>October 28th 2019, 14:44:00.000</td>\n",
       "      <td>احتمال ازسرگیری مذاکرات طالبان و آمریکا در آین...</td>\n",
       "      <td>irna.ir</td>\n",
       "      <td>تهران- ایرنا- تارنمای خبری\"تریبیون\"‌ پاکستان ر...</td>\n",
       "      <td>irna.ir</td>\n",
       "      <td>[\"افغانستان\",\"مذاکرات صلح\",\"ایالات متحده آمریک...</td>\n",
       "      <td>&lt;div class=\"item-text\" itemprop=\"articleBody\"&gt;...</td>\n",
       "      <td>NaN</td>\n",
       "      <td>NaN</td>\n",
       "      <td>NaN</td>\n",
       "    </tr>\n",
       "    <tr>\n",
       "      <th>21577</th>\n",
       "      <td>October 29th 2019, 18:03:00.000</td>\n",
       "      <td>\"آمریکا دست از سیاست‌های خصومت‌آمیزش در قبال ک...</td>\n",
       "      <td>isna.ir</td>\n",
       "      <td>رییس کمیته اجرایی مجمع عالی خلق کره شمالی از آ...</td>\n",
       "      <td>isna.ir</td>\n",
       "      <td>[\"کره شمالی\"]</td>\n",
       "      <td>&lt;p&gt;به گزارش ایسنا، چوئه ریونگ هائه، رییس کمیته...</td>\n",
       "      <td>NaN</td>\n",
       "      <td>NaN</td>\n",
       "      <td>https://cdn.isna.ir/d/2019/08/22/3/57930438.jpg</td>\n",
       "    </tr>\n",
       "  </tbody>\n",
       "</table>\n",
       "</div>"
      ],
      "text/plain": [
       "                          publish_date  \\\n",
       "24362  October 29th 2019, 11:12:00.000   \n",
       "18779  October 29th 2019, 13:24:00.000   \n",
       "26067  October 29th 2019, 22:16:00.000   \n",
       "51409  October 27th 2019, 12:00:00.000   \n",
       "36888  October 24th 2019, 13:14:00.000   \n",
       "22190  October 29th 2019, 11:50:00.000   \n",
       "54478  October 27th 2019, 17:30:00.000   \n",
       "25415  October 29th 2019, 12:16:04.000   \n",
       "52714  October 28th 2019, 14:44:00.000   \n",
       "21577  October 29th 2019, 18:03:00.000   \n",
       "\n",
       "                                                   title              url  \\\n",
       "24362              هشدار مرد شماره ۲ کره شمالی به آمریکا          irna.ir   \n",
       "18779              هشدار مرد شماره ۲ کره شمالی به آمریکا  khabaronline.ir   \n",
       "26067  پیونگ یانگ درخواست کره جنوبی برای مذاکره را رد...          irna.ir   \n",
       "51409  کره‌شمالی: ممکن است دوستی کیم جونگ اون با ترام...      entekhab.ir   \n",
       "36888  پیونگ یانگ نسبت به حل اختلافات با واشنگتن ابرا...          irna.ir   \n",
       "22190              هشدار مرد شماره ۲ کره شمالی به آمریکا        tabnak.ir   \n",
       "54478  هشدار کره شمالی به آمریکا: روی اعصاب ما راه نروید  mashreghnews.ir   \n",
       "25415             هشدار مرد شماره دو کره شمالی به آمریکا       borna.news   \n",
       "52714  احتمال ازسرگیری مذاکرات طالبان و آمریکا در آین...          irna.ir   \n",
       "21577  \"آمریکا دست از سیاست‌های خصومت‌آمیزش در قبال ک...          isna.ir   \n",
       "\n",
       "                                                 summary       source_url  \\\n",
       "24362  پکن- ایرنا- مرد شماره ۲ کره شمالی ضمن هشدار به...          irna.ir   \n",
       "18779  ایرنا نوشت: مرد شماره ۲ کره شمالی ضمن هشدار به...  khabaronline.ir   \n",
       "26067  پکن- ایرنا- کره شمالی درخواست رسمی کره جنوبی ب...          irna.ir   \n",
       "51409  پیونگ یانگ بامداد یکشنبه در مورد اتمام دوستی م...      entekhab.ir   \n",
       "36888  تهران - ایرنا - مشاور وزیر خارجه کره شمالی در ...          irna.ir   \n",
       "22190                                                NaN        tabnak.ir   \n",
       "54478  یک مقام ارشد کره شمالی در بیانیه‌ای تاکید کرده...  mashreghnews.ir   \n",
       "25415  مرد شماره ۲ کره شمالی ضمن هشدار به واشنگتن از ...       borna.news   \n",
       "52714  تهران- ایرنا- تارنمای خبری\"تریبیون\"‌ پاکستان ر...          irna.ir   \n",
       "21577  رییس کمیته اجرایی مجمع عالی خلق کره شمالی از آ...          isna.ir   \n",
       "\n",
       "                                               meta_tags  \\\n",
       "24362                [\"کره ‌شمالی\",\"امريكا\",\"کره جنوبی\"]   \n",
       "18779    [\"کره شمالی\",\"کره جنوبی\",\"ایالات متحده آمریکا\"]   \n",
       "26067                                                 []   \n",
       "51409                                  [\"ایرنا\",\"ایرنا\"]   \n",
       "36888  [\"کیم جونگ اون\",\"دونالد ترامپ\",\"ایالات متحده آ...   \n",
       "22190      [\"کره شمالی\",\"مرد شماره دو\",\"هشدار\",\"آمریکا\"]   \n",
       "54478                     [\"کره شمالی\",\"آمریکا\",\"هشدار\"]   \n",
       "25415  [\"خلع سلاح هسته ای\",\"سوئد\",\"شبه جزیره کره\",\"کر...   \n",
       "52714  [\"افغانستان\",\"مذاکرات صلح\",\"ایالات متحده آمریک...   \n",
       "21577                                      [\"کره شمالی\"]   \n",
       "\n",
       "                                                 content  category  \\\n",
       "24362  <div class=\"item-text\" itemprop=\"articleBody\">...       NaN   \n",
       "18779  <div> \\n <p>خبرگزاری یونهاپ روز سه شنبه گزارش ...       NaN   \n",
       "26067  <div class=\"item-text\" itemprop=\"articleBody\">...       NaN   \n",
       "51409  <div class=\"body col-xs-36\"> \\n <a class=\"ente...       NaN   \n",
       "36888  <div class=\"item-text\" itemprop=\"articleBody\">...       NaN   \n",
       "22190  <p>مرد شماره ۲ کره شمالی ضمن هشدار به واشنگتن ...       NaN   \n",
       "54478  <p><span style=\"color:#ff0000\">به گزارش مشرق</...       NaN   \n",
       "25415  <p style=\"text-align:justify\">به گزارش گروه سی...       NaN   \n",
       "52714  <div class=\"item-text\" itemprop=\"articleBody\">...       NaN   \n",
       "21577  <p>به گزارش ایسنا، چوئه ریونگ هائه، رییس کمیته...       NaN   \n",
       "\n",
       "       subcategory                                          thumbnail  \n",
       "24362          NaN                                                NaN  \n",
       "18779          NaN  https://media.khabaronline.ir/d/2019/10/29/3/5...  \n",
       "26067          NaN                                                NaN  \n",
       "51409          NaN  https://www.entekhab.ir/files/fa/news/1398/8/5...  \n",
       "36888          NaN                                                NaN  \n",
       "22190          NaN  https://cdn.tabnak.ir/files/fa/news/1398/8/7/1...  \n",
       "54478          NaN  https://cdn.mashreghnews.ir/d/2019/10/27/2/263...  \n",
       "25415          NaN  https://static1.borna.news/thumbnail/bs2rcINj9...  \n",
       "52714          NaN                                                NaN  \n",
       "21577          NaN    https://cdn.isna.ir/d/2019/08/22/3/57930438.jpg  "
      ]
     },
     "execution_count": 49,
     "metadata": {},
     "output_type": "execute_result"
    }
   ],
   "source": [
    "query=get_query_str()\n",
    "values_str=str(tuple(query))\n",
    "if len(query)==1:\n",
    "    values_str=values_str.replace(',','')\n",
    "tf_cham_sql = f\"\"\"\n",
    "select * \n",
    "from champion\n",
    "where word in {values_str}\n",
    "\"\"\"\n",
    "tf_cham_sql\n",
    "doc_ids=pd.read_sql(tf_cham_sql,cnx)['doc_id'].values.tolist()\n",
    "champ_df=df.loc[doc_ids,:]\n",
    "search_res=apply_query(champ_df,query)\n",
    "search_res"
   ]
  },
  {
   "cell_type": "code",
   "execution_count": null,
   "metadata": {},
   "outputs": [],
   "source": []
  }
 ],
 "metadata": {
  "kernelspec": {
   "display_name": "Python 3",
   "language": "python",
   "name": "python3"
  },
  "language_info": {
   "codemirror_mode": {
    "name": "ipython",
    "version": 3
   },
   "file_extension": ".py",
   "mimetype": "text/x-python",
   "name": "python",
   "nbconvert_exporter": "python",
   "pygments_lexer": "ipython3",
   "version": "3.7.0"
  }
 },
 "nbformat": 4,
 "nbformat_minor": 4
}
